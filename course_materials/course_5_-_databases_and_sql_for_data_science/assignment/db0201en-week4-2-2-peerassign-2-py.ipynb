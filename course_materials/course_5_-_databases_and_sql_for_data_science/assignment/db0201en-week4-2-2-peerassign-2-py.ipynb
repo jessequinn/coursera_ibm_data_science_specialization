{
 "cells": [
  {
   "cell_type": "markdown",
   "metadata": {},
   "source": [
    "<a href=\"https://cognitiveclass.ai\"><img src = \"https://ibm.box.com/shared/static/ugcqz6ohbvff804xp84y4kqnvvk3bq1g.png\" width = 300, align = \"center\"></a>\n",
    "\n",
    "<h1 align=center><font size = 5>Assignment: Querying Real World Data Sets with SQL </font></h1>"
   ]
  },
  {
   "cell_type": "markdown",
   "metadata": {},
   "source": [
    "# Introduction\n",
    "\n",
    "Using this Python notebook you will:\n",
    "1. Understand 3 Chicago datasets  \n",
    "1. Load the 3 datasets into 3 tables in a Db2 database\n",
    "1. Execute SQL queries to answer assignment questions "
   ]
  },
  {
   "cell_type": "markdown",
   "metadata": {},
   "source": [
    "## Understand the datasets \n",
    "To complete the assignment problems in this notebook you will be using three datasets that are available on the city of Chicago's Data Portal:\n",
    "1. <a href=\"https://data.cityofchicago.org/Health-Human-Services/Census-Data-Selected-socioeconomic-indicators-in-C/kn9c-c2s2\">Socioeconomic Indicators in Chicago</a>\n",
    "1. <a href=\"https://data.cityofchicago.org/Education/Chicago-Public-Schools-Progress-Report-Cards-2011-/9xs2-f89t\">Chicago Public Schools</a>\n",
    "1. <a href=\"https://data.cityofchicago.org/Public-Safety/Crimes-2001-to-present/ijzp-q8t2\">Chicago Crime Data</a>\n",
    "\n",
    "### 1. Socioeconomic Indicators in Chicago\n",
    "This dataset contains a selection of six socioeconomic indicators of public health significance and a “hardship index,” for each Chicago community area, for the years 2008 – 2012.\n",
    "\n",
    "For this assignment you will use a snapshot of this dataset which can be downloaded from:\n",
    "https://ibm.box.com/shared/static/05c3415cbfbtfnr2fx4atenb2sd361ze.csv\n",
    "\n",
    "A detailed description of this dataset and the original dataset can be obtained from the Chicago Data Portal at:\n",
    "https://data.cityofchicago.org/Health-Human-Services/Census-Data-Selected-socioeconomic-indicators-in-C/kn9c-c2s2\n",
    "\n",
    "\n",
    "\n",
    "### 2. Chicago Public Schools\n",
    "\n",
    "This dataset shows all school level performance data used to create CPS School Report Cards for the 2011-2012 school year. This dataset is provided by the city of Chicago's Data Portal.\n",
    "\n",
    "For this assignment you will use a snapshot of this dataset which can be downloaded from:\n",
    "https://ibm.box.com/shared/static/0g7kbanvn5l2gt2qu38ukooatnjqyuys.csv\n",
    "\n",
    "A detailed description of this dataset and the original dataset can be obtained from the Chicago Data Portal at:\n",
    "https://data.cityofchicago.org/Education/Chicago-Public-Schools-Progress-Report-Cards-2011-/9xs2-f89t\n",
    "\n",
    "\n",
    "\n",
    "\n",
    "### 3. Chicago Crime Data \n",
    "\n",
    "This dataset reflects reported incidents of crime (with the exception of murders where data exists for each victim) that occurred in the City of Chicago from 2001 to present, minus the most recent seven days. \n",
    "\n",
    "This dataset is quite large - over 1.5GB in size with over 6.5 million rows. For the purposes of this assignment we will use a much smaller sample of this dataset which can be downloaded from:\n",
    "https://ibm.box.com/shared/static/svflyugsr9zbqy5bmowgswqemfpm1x7f.csv\n",
    "\n",
    "A detailed description of this dataset and the original dataset can be obtained from the Chicago Data Portal at:\n",
    "https://data.cityofchicago.org/Public-Safety/Crimes-2001-to-present/ijzp-q8t2\n"
   ]
  },
  {
   "cell_type": "markdown",
   "metadata": {},
   "source": [
    "### Store the datasets in database tables\n",
    "In many cases the dataset to be analyzed is available as a .CSV (comma separated values) file, perhaps on the internet. To analyze the data using SQL, it first needs to be stored in the database.\n",
    "\n",
    "While it is easier to read the dataset into a Pandas dataframe and then PERSIST it into the database as we saw in Week 3 Lab 3, it results in mapping to default datatypes which may not be optimal for SQL querying. For example a long textual field may map to a CLOB instead of a VARCHAR. \n",
    "\n",
    "Therefore, __it is highly recommended to manually load the table using the database console LOAD tool, as indicated in Week 2 Lab 1 Part II__. The only difference with that lab is that in Step 5 of the instructions you will need to click on create \"(+) New Table\" and specify the name of the table you want to create and then click \"Next\". \n",
    "\n",
    "<a href=\"https://cognitiveclass.ai\"><img src = \"https://ibm.box.com/shared/static/uc4xjh1uxcc78ks1i18v668simioz4es.jpg\"></a>\n",
    "\n",
    "##### Now open the Db2 console, open the LOAD tool, Select / Drag the .CSV file for the first dataset, Next create a New Table, and then follow the steps on-screen instructions to load the data. Name the new tables as folows:\n",
    "1. __CENSUS_DATA__\n",
    "1. __CHICAGO_PUBLIC_SCHOOLS__\n",
    "1. __CHICAGO_CRIME_DATA__"
   ]
  },
  {
   "cell_type": "markdown",
   "metadata": {},
   "source": [
    "### Connect to the database \n",
    "Let us first load the SQL extension and establish a connection with the database"
   ]
  },
  {
   "cell_type": "code",
   "execution_count": 1,
   "metadata": {},
   "outputs": [],
   "source": [
    "%load_ext sql"
   ]
  },
  {
   "cell_type": "code",
   "execution_count": 2,
   "metadata": {},
   "outputs": [
    {
     "data": {
      "text/plain": [
       "'Connected: dash100213@BLUDB'"
      ]
     },
     "execution_count": 2,
     "metadata": {},
     "output_type": "execute_result"
    }
   ],
   "source": [
    "# Remember the connection string is of the format:\n",
    "# %sql ibm_db_sa://my-username:my-password@my-hostname:my-port/my-db-name\n",
    "# Enter the connection string for your Db2 on Cloud database instance below\n",
    "%sql ibm_db_sa://***:***@dashdb-entry-yp-dal10-01.services.dal.bluemix.net/BLUDB"
   ]
  },
  {
   "cell_type": "markdown",
   "metadata": {},
   "source": [
    "## Problems\n",
    "Now write and execute SQL queries to solve assignment problems\n",
    "\n",
    "### Problem 1\n",
    "\n",
    "##### How many rows are in each dataset?"
   ]
  },
  {
   "cell_type": "code",
   "execution_count": 3,
   "metadata": {},
   "outputs": [
    {
     "name": "stdout",
     "output_type": "stream",
     "text": [
      " * ibm_db_sa://dash100213:***@dashdb-entry-yp-dal10-01.services.dal.bluemix.net/BLUDB\n",
      "Done.\n"
     ]
    },
    {
     "data": {
      "text/html": [
       "<table>\n",
       "    <tr>\n",
       "        <th>1</th>\n",
       "    </tr>\n",
       "    <tr>\n",
       "        <td>78</td>\n",
       "    </tr>\n",
       "</table>"
      ],
      "text/plain": [
       "[(Decimal('78'),)]"
      ]
     },
     "execution_count": 3,
     "metadata": {},
     "output_type": "execute_result"
    }
   ],
   "source": [
    "# Rows in Census Data (Socieconimic Indicators)\n",
    "%sql SELECT COUNT(*) FROM CENSUS_DATA"
   ]
  },
  {
   "cell_type": "code",
   "execution_count": 4,
   "metadata": {},
   "outputs": [
    {
     "name": "stdout",
     "output_type": "stream",
     "text": [
      " * ibm_db_sa://dash100213:***@dashdb-entry-yp-dal10-01.services.dal.bluemix.net/BLUDB\n",
      "Done.\n"
     ]
    },
    {
     "data": {
      "text/html": [
       "<table>\n",
       "    <tr>\n",
       "        <th>1</th>\n",
       "    </tr>\n",
       "    <tr>\n",
       "        <td>566</td>\n",
       "    </tr>\n",
       "</table>"
      ],
      "text/plain": [
       "[(Decimal('566'),)]"
      ]
     },
     "execution_count": 4,
     "metadata": {},
     "output_type": "execute_result"
    }
   ],
   "source": [
    "# Rows in Public Schools\n",
    "%sql SELECT COUNT(*) FROM CHICAGO_PUBLIC_SCHOOLS"
   ]
  },
  {
   "cell_type": "code",
   "execution_count": 5,
   "metadata": {},
   "outputs": [
    {
     "name": "stdout",
     "output_type": "stream",
     "text": [
      " * ibm_db_sa://dash100213:***@dashdb-entry-yp-dal10-01.services.dal.bluemix.net/BLUDB\n",
      "Done.\n"
     ]
    },
    {
     "data": {
      "text/html": [
       "<table>\n",
       "    <tr>\n",
       "        <th>1</th>\n",
       "    </tr>\n",
       "    <tr>\n",
       "        <td>533</td>\n",
       "    </tr>\n",
       "</table>"
      ],
      "text/plain": [
       "[(Decimal('533'),)]"
      ]
     },
     "execution_count": 5,
     "metadata": {},
     "output_type": "execute_result"
    }
   ],
   "source": [
    "# Rows in Crime Data\n",
    "%sql SELECT COUNT(*) FROM CHICAGO_CRIME_DATA"
   ]
  },
  {
   "cell_type": "markdown",
   "metadata": {},
   "source": [
    "### Problem 2\n",
    "\n",
    "##### Find average college enrollments by community area"
   ]
  },
  {
   "cell_type": "code",
   "execution_count": 12,
   "metadata": {
    "collapsed": true
   },
   "outputs": [
    {
     "name": "stdout",
     "output_type": "stream",
     "text": [
      " * ibm_db_sa://dash100213:***@dashdb-entry-yp-dal10-01.services.dal.bluemix.net/BLUDB\n",
      "Done.\n"
     ]
    },
    {
     "data": {
      "text/html": [
       "<table>\n",
       "    <tr>\n",
       "        <th>Average_College_Enrollment</th>\n",
       "        <th>Community_Area_Name</th>\n",
       "    </tr>\n",
       "    <tr>\n",
       "        <td>802.142857</td>\n",
       "        <td>LINCOLN PARK</td>\n",
       "    </tr>\n",
       "    <tr>\n",
       "        <td>1233.333333</td>\n",
       "        <td>WEST ELSDON</td>\n",
       "    </tr>\n",
       "    <tr>\n",
       "        <td>654.200000</td>\n",
       "        <td>MORGAN PARK</td>\n",
       "    </tr>\n",
       "    <tr>\n",
       "        <td>641.363636</td>\n",
       "        <td>LAKE VIEW</td>\n",
       "    </tr>\n",
       "    <tr>\n",
       "        <td>401.882352</td>\n",
       "        <td>ENGLEWOOD</td>\n",
       "    </tr>\n",
       "    <tr>\n",
       "        <td>910.000000</td>\n",
       "        <td>AVONDALE</td>\n",
       "    </tr>\n",
       "    <tr>\n",
       "        <td>1198.833333</td>\n",
       "        <td>BELMONT CRAGIN</td>\n",
       "    </tr>\n",
       "    <tr>\n",
       "        <td>842.000000</td>\n",
       "        <td>NORTH PARK</td>\n",
       "    </tr>\n",
       "    <tr>\n",
       "        <td>1051.750000</td>\n",
       "        <td>WEST LAWN</td>\n",
       "    </tr>\n",
       "    <tr>\n",
       "        <td>464.750000</td>\n",
       "        <td>SOUTH DEERING</td>\n",
       "    </tr>\n",
       "    <tr>\n",
       "        <td>549.000000</td>\n",
       "        <td>BURNSIDE</td>\n",
       "    </tr>\n",
       "    <tr>\n",
       "        <td>459.333333</td>\n",
       "        <td>NEAR SOUTH SIDE</td>\n",
       "    </tr>\n",
       "    <tr>\n",
       "        <td>525.750000</td>\n",
       "        <td>WOODLAWN</td>\n",
       "    </tr>\n",
       "    <tr>\n",
       "        <td>409.000000</td>\n",
       "        <td>BEVERLY</td>\n",
       "    </tr>\n",
       "    <tr>\n",
       "        <td>481.500000</td>\n",
       "        <td>HEGEWISCH</td>\n",
       "    </tr>\n",
       "    <tr>\n",
       "        <td>862.666666</td>\n",
       "        <td>IRVING PARK</td>\n",
       "    </tr>\n",
       "    <tr>\n",
       "        <td>993.750000</td>\n",
       "        <td>HERMOSA</td>\n",
       "    </tr>\n",
       "    <tr>\n",
       "        <td>321.625000</td>\n",
       "        <td>NORTH LAWNDALE</td>\n",
       "    </tr>\n",
       "    <tr>\n",
       "        <td>609.384615</td>\n",
       "        <td>NEW CITY</td>\n",
       "    </tr>\n",
       "    <tr>\n",
       "        <td>659.727272</td>\n",
       "        <td>LOWER WEST SIDE</td>\n",
       "    </tr>\n",
       "    <tr>\n",
       "        <td>612.428571</td>\n",
       "        <td>KENWOOD</td>\n",
       "    </tr>\n",
       "    <tr>\n",
       "        <td>471.450000</td>\n",
       "        <td>WEST TOWN</td>\n",
       "    </tr>\n",
       "    <tr>\n",
       "        <td>910.400000</td>\n",
       "        <td>GARFIELD RIDGE</td>\n",
       "    </tr>\n",
       "    <tr>\n",
       "        <td>1061.000000</td>\n",
       "        <td>EAST SIDE</td>\n",
       "    </tr>\n",
       "    <tr>\n",
       "        <td>324.000000</td>\n",
       "        <td>WEST PULLMAN</td>\n",
       "    </tr>\n",
       "    <tr>\n",
       "        <td>424.545454</td>\n",
       "        <td>DOUGLAS</td>\n",
       "    </tr>\n",
       "    <tr>\n",
       "        <td>877.500000</td>\n",
       "        <td>JEFFERSON PARK</td>\n",
       "    </tr>\n",
       "    <tr>\n",
       "        <td>265.500000</td>\n",
       "        <td>FULLER PARK</td>\n",
       "    </tr>\n",
       "    <tr>\n",
       "        <td>1317.000000</td>\n",
       "        <td>MONTCLARE</td>\n",
       "    </tr>\n",
       "    <tr>\n",
       "        <td>910.777777</td>\n",
       "        <td>WEST RIDGE</td>\n",
       "    </tr>\n",
       "    <tr>\n",
       "        <td>327.750000</td>\n",
       "        <td>WEST GARFIELD PARK</td>\n",
       "    </tr>\n",
       "    <tr>\n",
       "        <td>672.409090</td>\n",
       "        <td>SOUTH LAWNDALE</td>\n",
       "    </tr>\n",
       "    <tr>\n",
       "        <td>991.500000</td>\n",
       "        <td>GAGE PARK</td>\n",
       "    </tr>\n",
       "    <tr>\n",
       "        <td>405.100000</td>\n",
       "        <td>GREATER GRAND CROSSING</td>\n",
       "    </tr>\n",
       "    <tr>\n",
       "        <td>871.000000</td>\n",
       "        <td>LOOP</td>\n",
       "    </tr>\n",
       "    <tr>\n",
       "        <td>504.777777</td>\n",
       "        <td>SOUTH SHORE</td>\n",
       "    </tr>\n",
       "    <tr>\n",
       "        <td>477.000000</td>\n",
       "        <td>FOREST GLEN</td>\n",
       "    </tr>\n",
       "    <tr>\n",
       "        <td>858.000000</td>\n",
       "        <td>ALBANY PARK</td>\n",
       "    </tr>\n",
       "    <tr>\n",
       "        <td>540.000000</td>\n",
       "        <td>ROSELAND</td>\n",
       "    </tr>\n",
       "    <tr>\n",
       "        <td>786.000000</td>\n",
       "        <td>OHARE</td>\n",
       "    </tr>\n",
       "    <tr>\n",
       "        <td>826.400000</td>\n",
       "        <td>LINCOLN SQUARE</td>\n",
       "    </tr>\n",
       "    <tr>\n",
       "        <td>521.250000</td>\n",
       "        <td>CLEARING</td>\n",
       "    </tr>\n",
       "    <tr>\n",
       "        <td>498.437500</td>\n",
       "        <td>NEAR WEST SIDE</td>\n",
       "    </tr>\n",
       "    <tr>\n",
       "        <td>993.428571</td>\n",
       "        <td>PORTAGE PARK</td>\n",
       "    </tr>\n",
       "    <tr>\n",
       "        <td>388.000000</td>\n",
       "        <td>MCKINLEY PARK</td>\n",
       "    </tr>\n",
       "    <tr>\n",
       "        <td>678.000000</td>\n",
       "        <td>ROGERS PARK</td>\n",
       "    </tr>\n",
       "    <tr>\n",
       "        <td>140.000000</td>\n",
       "        <td>OAKLAND</td>\n",
       "    </tr>\n",
       "    <tr>\n",
       "        <td>486.000000</td>\n",
       "        <td>ARMOUR SQUARE</td>\n",
       "    </tr>\n",
       "    <tr>\n",
       "        <td>668.272727</td>\n",
       "        <td>LOGAN SQUARE</td>\n",
       "    </tr>\n",
       "    <tr>\n",
       "        <td>2411.500000</td>\n",
       "        <td>ARCHER HEIGHTS</td>\n",
       "    </tr>\n",
       "    <tr>\n",
       "        <td>1205.875000</td>\n",
       "        <td>BRIGHTON PARK</td>\n",
       "    </tr>\n",
       "    <tr>\n",
       "        <td>507.333333</td>\n",
       "        <td>AVALON PARK</td>\n",
       "    </tr>\n",
       "    <tr>\n",
       "        <td>626.857142</td>\n",
       "        <td>UPTOWN</td>\n",
       "    </tr>\n",
       "    <tr>\n",
       "        <td>482.500000</td>\n",
       "        <td>HYDE PARK</td>\n",
       "    </tr>\n",
       "    <tr>\n",
       "        <td>761.333333</td>\n",
       "        <td>DUNNING</td>\n",
       "    </tr>\n",
       "    <tr>\n",
       "        <td>417.500000</td>\n",
       "        <td>AUBURN GRESHAM</td>\n",
       "    </tr>\n",
       "    <tr>\n",
       "        <td>810.375000</td>\n",
       "        <td>ASHBURN</td>\n",
       "    </tr>\n",
       "    <tr>\n",
       "        <td>663.076923</td>\n",
       "        <td>HUMBOLDT PARK</td>\n",
       "    </tr>\n",
       "    <tr>\n",
       "        <td>766.666666</td>\n",
       "        <td>EDGEWATER</td>\n",
       "    </tr>\n",
       "    <tr>\n",
       "        <td>480.285714</td>\n",
       "        <td>NEAR NORTH SIDE</td>\n",
       "    </tr>\n",
       "    <tr>\n",
       "        <td>455.000000</td>\n",
       "        <td>EDISON PARK</td>\n",
       "    </tr>\n",
       "    <tr>\n",
       "        <td>529.600000</td>\n",
       "        <td>WASHINGTON PARK</td>\n",
       "    </tr>\n",
       "    <tr>\n",
       "        <td>1012.285714</td>\n",
       "        <td>CHICAGO LAWN</td>\n",
       "    </tr>\n",
       "    <tr>\n",
       "        <td>475.347826</td>\n",
       "        <td>AUSTIN</td>\n",
       "    </tr>\n",
       "    <tr>\n",
       "        <td>386.750000</td>\n",
       "        <td>RIVERDALE</td>\n",
       "    </tr>\n",
       "    <tr>\n",
       "        <td>522.750000</td>\n",
       "        <td>MOUNT GREENWOOD</td>\n",
       "    </tr>\n",
       "    <tr>\n",
       "        <td>410.538461</td>\n",
       "        <td>EAST GARFIELD PARK</td>\n",
       "    </tr>\n",
       "    <tr>\n",
       "        <td>1077.285714</td>\n",
       "        <td>NORTH CENTER</td>\n",
       "    </tr>\n",
       "    <tr>\n",
       "        <td>633.400000</td>\n",
       "        <td>BRIDGEPORT</td>\n",
       "    </tr>\n",
       "    <tr>\n",
       "        <td>457.384615</td>\n",
       "        <td>WEST ENGLEWOOD</td>\n",
       "    </tr>\n",
       "    <tr>\n",
       "        <td>808.625000</td>\n",
       "        <td>NORWOOD PARK</td>\n",
       "    </tr>\n",
       "    <tr>\n",
       "        <td>351.125000</td>\n",
       "        <td>GRAND BOULEVARD</td>\n",
       "    </tr>\n",
       "    <tr>\n",
       "        <td>560.222222</td>\n",
       "        <td>CHATHAM</td>\n",
       "    </tr>\n",
       "    <tr>\n",
       "        <td>577.571428</td>\n",
       "        <td>SOUTH CHICAGO</td>\n",
       "    </tr>\n",
       "    <tr>\n",
       "        <td>261.333333</td>\n",
       "        <td>CALUMET HEIGHTS</td>\n",
       "    </tr>\n",
       "    <tr>\n",
       "        <td>445.111111</td>\n",
       "        <td>WASHINGTON HEIGHTS</td>\n",
       "    </tr>\n",
       "    <tr>\n",
       "        <td>324.000000</td>\n",
       "        <td>PULLMAN</td>\n",
       "    </tr>\n",
       "</table>"
      ],
      "text/plain": [
       "[(Decimal('802.142857'), 'LINCOLN PARK'),\n",
       " (Decimal('1233.333333'), 'WEST ELSDON'),\n",
       " (Decimal('654.200000'), 'MORGAN PARK'),\n",
       " (Decimal('641.363636'), 'LAKE VIEW'),\n",
       " (Decimal('401.882352'), 'ENGLEWOOD'),\n",
       " (Decimal('910.000000'), 'AVONDALE'),\n",
       " (Decimal('1198.833333'), 'BELMONT CRAGIN'),\n",
       " (Decimal('842.000000'), 'NORTH PARK'),\n",
       " (Decimal('1051.750000'), 'WEST LAWN'),\n",
       " (Decimal('464.750000'), 'SOUTH DEERING'),\n",
       " (Decimal('549.000000'), 'BURNSIDE'),\n",
       " (Decimal('459.333333'), 'NEAR SOUTH SIDE'),\n",
       " (Decimal('525.750000'), 'WOODLAWN'),\n",
       " (Decimal('409.000000'), 'BEVERLY'),\n",
       " (Decimal('481.500000'), 'HEGEWISCH'),\n",
       " (Decimal('862.666666'), 'IRVING PARK'),\n",
       " (Decimal('993.750000'), 'HERMOSA'),\n",
       " (Decimal('321.625000'), 'NORTH LAWNDALE'),\n",
       " (Decimal('609.384615'), 'NEW CITY'),\n",
       " (Decimal('659.727272'), 'LOWER WEST SIDE'),\n",
       " (Decimal('612.428571'), 'KENWOOD'),\n",
       " (Decimal('471.450000'), 'WEST TOWN'),\n",
       " (Decimal('910.400000'), 'GARFIELD RIDGE'),\n",
       " (Decimal('1061.000000'), 'EAST SIDE'),\n",
       " (Decimal('324.000000'), 'WEST PULLMAN'),\n",
       " (Decimal('424.545454'), 'DOUGLAS'),\n",
       " (Decimal('877.500000'), 'JEFFERSON PARK'),\n",
       " (Decimal('265.500000'), 'FULLER PARK'),\n",
       " (Decimal('1317.000000'), 'MONTCLARE'),\n",
       " (Decimal('910.777777'), 'WEST RIDGE'),\n",
       " (Decimal('327.750000'), 'WEST GARFIELD PARK'),\n",
       " (Decimal('672.409090'), 'SOUTH LAWNDALE'),\n",
       " (Decimal('991.500000'), 'GAGE PARK'),\n",
       " (Decimal('405.100000'), 'GREATER GRAND CROSSING'),\n",
       " (Decimal('871.000000'), 'LOOP'),\n",
       " (Decimal('504.777777'), 'SOUTH SHORE'),\n",
       " (Decimal('477.000000'), 'FOREST GLEN'),\n",
       " (Decimal('858.000000'), 'ALBANY PARK'),\n",
       " (Decimal('540.000000'), 'ROSELAND'),\n",
       " (Decimal('786.000000'), 'OHARE'),\n",
       " (Decimal('826.400000'), 'LINCOLN SQUARE'),\n",
       " (Decimal('521.250000'), 'CLEARING'),\n",
       " (Decimal('498.437500'), 'NEAR WEST SIDE'),\n",
       " (Decimal('993.428571'), 'PORTAGE PARK'),\n",
       " (Decimal('388.000000'), 'MCKINLEY PARK'),\n",
       " (Decimal('678.000000'), 'ROGERS PARK'),\n",
       " (Decimal('140.000000'), 'OAKLAND'),\n",
       " (Decimal('486.000000'), 'ARMOUR SQUARE'),\n",
       " (Decimal('668.272727'), 'LOGAN SQUARE'),\n",
       " (Decimal('2411.500000'), 'ARCHER HEIGHTS'),\n",
       " (Decimal('1205.875000'), 'BRIGHTON PARK'),\n",
       " (Decimal('507.333333'), 'AVALON PARK'),\n",
       " (Decimal('626.857142'), 'UPTOWN'),\n",
       " (Decimal('482.500000'), 'HYDE PARK'),\n",
       " (Decimal('761.333333'), 'DUNNING'),\n",
       " (Decimal('417.500000'), 'AUBURN GRESHAM'),\n",
       " (Decimal('810.375000'), 'ASHBURN'),\n",
       " (Decimal('663.076923'), 'HUMBOLDT PARK'),\n",
       " (Decimal('766.666666'), 'EDGEWATER'),\n",
       " (Decimal('480.285714'), 'NEAR NORTH SIDE'),\n",
       " (Decimal('455.000000'), 'EDISON PARK'),\n",
       " (Decimal('529.600000'), 'WASHINGTON PARK'),\n",
       " (Decimal('1012.285714'), 'CHICAGO LAWN'),\n",
       " (Decimal('475.347826'), 'AUSTIN'),\n",
       " (Decimal('386.750000'), 'RIVERDALE'),\n",
       " (Decimal('522.750000'), 'MOUNT GREENWOOD'),\n",
       " (Decimal('410.538461'), 'EAST GARFIELD PARK'),\n",
       " (Decimal('1077.285714'), 'NORTH CENTER'),\n",
       " (Decimal('633.400000'), 'BRIDGEPORT'),\n",
       " (Decimal('457.384615'), 'WEST ENGLEWOOD'),\n",
       " (Decimal('808.625000'), 'NORWOOD PARK'),\n",
       " (Decimal('351.125000'), 'GRAND BOULEVARD'),\n",
       " (Decimal('560.222222'), 'CHATHAM'),\n",
       " (Decimal('577.571428'), 'SOUTH CHICAGO'),\n",
       " (Decimal('261.333333'), 'CALUMET HEIGHTS'),\n",
       " (Decimal('445.111111'), 'WASHINGTON HEIGHTS'),\n",
       " (Decimal('324.000000'), 'PULLMAN')]"
      ]
     },
     "execution_count": 12,
     "metadata": {},
     "output_type": "execute_result"
    }
   ],
   "source": [
    "%sql SELECT AVG(\"College_Enrollment__number_of_students_\") AS \"Average_College_Enrollment\", \"Community_Area_Name\" FROM CHICAGO_PUBLIC_SCHOOLS GROUP BY \"Community_Area_Name\""
   ]
  },
  {
   "cell_type": "markdown",
   "metadata": {},
   "source": [
    "### Problem 3\n",
    "\n",
    "##### Find the number of schools that are healthy school certified"
   ]
  },
  {
   "cell_type": "code",
   "execution_count": 20,
   "metadata": {
    "collapsed": true
   },
   "outputs": [
    {
     "name": "stdout",
     "output_type": "stream",
     "text": [
      " * ibm_db_sa://dash100213:***@dashdb-entry-yp-dal10-01.services.dal.bluemix.net/BLUDB\n",
      "Done.\n"
     ]
    },
    {
     "data": {
      "text/html": [
       "<table>\n",
       "    <tr>\n",
       "        <th>1</th>\n",
       "    </tr>\n",
       "    <tr>\n",
       "        <td>16</td>\n",
       "    </tr>\n",
       "</table>"
      ],
      "text/plain": [
       "[(Decimal('16'),)]"
      ]
     },
     "execution_count": 20,
     "metadata": {},
     "output_type": "execute_result"
    }
   ],
   "source": [
    "%sql SELECT COUNT(\"Healthy_Schools_Certified_\") FROM CHICAGO_PUBLIC_SCHOOLS WHERE \"Healthy_Schools_Certified_\" = 'Yes'"
   ]
  },
  {
   "cell_type": "markdown",
   "metadata": {},
   "source": [
    "### Problem 4\n",
    "\n",
    "##### How many observations have a Location Description value of GAS STATION\n"
   ]
  },
  {
   "cell_type": "code",
   "execution_count": 23,
   "metadata": {
    "collapsed": true
   },
   "outputs": [
    {
     "name": "stdout",
     "output_type": "stream",
     "text": [
      " * ibm_db_sa://dash100213:***@dashdb-entry-yp-dal10-01.services.dal.bluemix.net/BLUDB\n",
      "Done.\n"
     ]
    },
    {
     "data": {
      "text/html": [
       "<table>\n",
       "    <tr>\n",
       "        <th>1</th>\n",
       "    </tr>\n",
       "    <tr>\n",
       "        <td>6</td>\n",
       "    </tr>\n",
       "</table>"
      ],
      "text/plain": [
       "[(Decimal('6'),)]"
      ]
     },
     "execution_count": 23,
     "metadata": {},
     "output_type": "execute_result"
    }
   ],
   "source": [
    "%sql SELECT COUNT(\"Location_Description\") FROM CHICAGO_CRIME_DATA WHERE \"Location_Description\" = 'GAS STATION'"
   ]
  },
  {
   "cell_type": "markdown",
   "metadata": {},
   "source": [
    "### Problem 5\n",
    "\n",
    "##### Retrieve a list of the top 10 community areas which have most number of schools and sorted in descending order."
   ]
  },
  {
   "cell_type": "code",
   "execution_count": 32,
   "metadata": {
    "collapsed": true
   },
   "outputs": [
    {
     "name": "stdout",
     "output_type": "stream",
     "text": [
      " * ibm_db_sa://dash100213:***@dashdb-entry-yp-dal10-01.services.dal.bluemix.net/BLUDB\n",
      "Done.\n"
     ]
    },
    {
     "data": {
      "text/html": [
       "<table>\n",
       "    <tr>\n",
       "        <th>Number_of_Schools</th>\n",
       "        <th>Community_Area_Name</th>\n",
       "    </tr>\n",
       "    <tr>\n",
       "        <td>23</td>\n",
       "        <td>AUSTIN</td>\n",
       "    </tr>\n",
       "    <tr>\n",
       "        <td>22</td>\n",
       "        <td>SOUTH LAWNDALE</td>\n",
       "    </tr>\n",
       "    <tr>\n",
       "        <td>20</td>\n",
       "        <td>WEST TOWN</td>\n",
       "    </tr>\n",
       "    <tr>\n",
       "        <td>17</td>\n",
       "        <td>ENGLEWOOD</td>\n",
       "    </tr>\n",
       "    <tr>\n",
       "        <td>16</td>\n",
       "        <td>NEAR WEST SIDE</td>\n",
       "    </tr>\n",
       "    <tr>\n",
       "        <td>16</td>\n",
       "        <td>NORTH LAWNDALE</td>\n",
       "    </tr>\n",
       "    <tr>\n",
       "        <td>13</td>\n",
       "        <td>NEW CITY</td>\n",
       "    </tr>\n",
       "    <tr>\n",
       "        <td>13</td>\n",
       "        <td>ROSELAND</td>\n",
       "    </tr>\n",
       "    <tr>\n",
       "        <td>13</td>\n",
       "        <td>EAST GARFIELD PARK</td>\n",
       "    </tr>\n",
       "    <tr>\n",
       "        <td>13</td>\n",
       "        <td>HUMBOLDT PARK</td>\n",
       "    </tr>\n",
       "</table>"
      ],
      "text/plain": [
       "[(Decimal('23'), 'AUSTIN'),\n",
       " (Decimal('22'), 'SOUTH LAWNDALE'),\n",
       " (Decimal('20'), 'WEST TOWN'),\n",
       " (Decimal('17'), 'ENGLEWOOD'),\n",
       " (Decimal('16'), 'NEAR WEST SIDE'),\n",
       " (Decimal('16'), 'NORTH LAWNDALE'),\n",
       " (Decimal('13'), 'NEW CITY'),\n",
       " (Decimal('13'), 'ROSELAND'),\n",
       " (Decimal('13'), 'EAST GARFIELD PARK'),\n",
       " (Decimal('13'), 'HUMBOLDT PARK')]"
      ]
     },
     "execution_count": 32,
     "metadata": {},
     "output_type": "execute_result"
    }
   ],
   "source": [
    "%sql SELECT COUNT(\"Community_Area_Name\") AS \"Number_of_Schools\", \"Community_Area_Name\" FROM CHICAGO_PUBLIC_SCHOOLS GROUP BY \"Community_Area_Name\" ORDER BY COUNT(\"Community_Area_Name\") DESC LIMIT 10"
   ]
  },
  {
   "cell_type": "markdown",
   "metadata": {},
   "source": [
    "### Problem 6\n",
    "\n",
    "##### How many observations have value MOTOR VEHICLE THEFT in the Primary Type variable (this is the number of crimes related to Motor vehicles)"
   ]
  },
  {
   "cell_type": "code",
   "execution_count": 35,
   "metadata": {
    "collapsed": true
   },
   "outputs": [
    {
     "name": "stdout",
     "output_type": "stream",
     "text": [
      " * ibm_db_sa://dash100213:***@dashdb-entry-yp-dal10-01.services.dal.bluemix.net/BLUDB\n",
      "Done.\n"
     ]
    },
    {
     "data": {
      "text/html": [
       "<table>\n",
       "    <tr>\n",
       "        <th>1</th>\n",
       "    </tr>\n",
       "    <tr>\n",
       "        <td>24</td>\n",
       "    </tr>\n",
       "</table>"
      ],
      "text/plain": [
       "[(Decimal('24'),)]"
      ]
     },
     "execution_count": 35,
     "metadata": {},
     "output_type": "execute_result"
    }
   ],
   "source": [
    "%sql SELECT COUNT(\"Primary_Type\") FROM CHICAGO_CRIME_DATA WHERE \"Primary_Type\" = 'MOTOR VEHICLE THEFT'"
   ]
  },
  {
   "cell_type": "markdown",
   "metadata": {},
   "source": [
    "### Problem 7\n",
    "\n",
    "##### Find the minimum “Average Student Attendance” for community are where hardship is 96. Hint: use INNER JOIN"
   ]
  },
  {
   "cell_type": "code",
   "execution_count": 98,
   "metadata": {
    "collapsed": true
   },
   "outputs": [
    {
     "name": "stdout",
     "output_type": "stream",
     "text": [
      " * ibm_db_sa://dash100213:***@dashdb-entry-yp-dal10-01.services.dal.bluemix.net/BLUDB\n",
      "Done.\n"
     ]
    },
    {
     "data": {
      "text/html": [
       "<table>\n",
       "    <tr>\n",
       "        <th>Minimum_Value_for_Attendance</th>\n",
       "        <th>Community_Area_Name</th>\n",
       "    </tr>\n",
       "    <tr>\n",
       "        <td>86.1%</td>\n",
       "        <td>SOUTH LAWNDALE</td>\n",
       "    </tr>\n",
       "</table>"
      ],
      "text/plain": [
       "[('86.1%', 'SOUTH LAWNDALE')]"
      ]
     },
     "execution_count": 98,
     "metadata": {},
     "output_type": "execute_result"
    }
   ],
   "source": [
    "%sql SELECT MIN(a.\"Average_Student_Attendance\") AS \"Minimum_Value_for_Attendance\", a.\"Community_Area_Name\" FROM CHICAGO_PUBLIC_SCHOOLS a INNER JOIN CENSUS_DATA b ON a.\"Community_Area_Number\" = b.\"Community_Area_Number\" WHERE b.hardship_index = 96 GROUP BY a.\"Community_Area_Name\""
   ]
  },
  {
   "cell_type": "markdown",
   "metadata": {},
   "source": [
    "Copyright &copy; 2018 [cognitiveclass.ai](cognitiveclass.ai?utm_source=bducopyrightlink&utm_medium=dswb&utm_campaign=bdu). This notebook and its source code are released under the terms of the [MIT License](https://bigdatauniversity.com/mit-license/).\n"
   ]
  }
 ],
 "metadata": {
  "kernelspec": {
   "display_name": "Python 3",
   "language": "python",
   "name": "python3"
  },
  "language_info": {
   "codemirror_mode": {
    "name": "ipython",
    "version": 3
   },
   "file_extension": ".py",
   "mimetype": "text/x-python",
   "name": "python",
   "nbconvert_exporter": "python",
   "pygments_lexer": "ipython3",
   "version": "3.6.5"
  },
  "widgets": {
   "state": {},
   "version": "1.1.2"
  }
 },
 "nbformat": 4,
 "nbformat_minor": 2
}
